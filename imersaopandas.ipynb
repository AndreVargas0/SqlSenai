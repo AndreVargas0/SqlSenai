{
 "cells": [
  {
   "cell_type": "markdown",
   "metadata": {},
   "source": [
    "# SqlAlchemy\n",
    "    - É uma biblioteca de ORM;\n",
    "    - Conexão fácil;\n",
    "    - Mapemento de tabela com classe;\n",
    "    - Resolve conflitos de tecnologias com paradigmas diferentes;\n",
    "    - Tudo fique orientado a objetos.\n"
   ]
  },
  {
   "cell_type": "code",
   "execution_count": 3,
   "metadata": {},
   "outputs": [],
   "source": [
    "import pandas as pd"
   ]
  },
  {
   "cell_type": "code",
   "execution_count": 4,
   "metadata": {},
   "outputs": [],
   "source": [
    "from sqlalchemy import create_engine"
   ]
  },
  {
   "cell_type": "code",
   "execution_count": 5,
   "metadata": {},
   "outputs": [],
   "source": [
    "import pymysql"
   ]
  },
  {
   "cell_type": "code",
   "execution_count": 8,
   "metadata": {},
   "outputs": [
    {
     "data": {
      "text/html": [
       "<div>\n",
       "<style scoped>\n",
       "    .dataframe tbody tr th:only-of-type {\n",
       "        vertical-align: middle;\n",
       "    }\n",
       "\n",
       "    .dataframe tbody tr th {\n",
       "        vertical-align: top;\n",
       "    }\n",
       "\n",
       "    .dataframe thead th {\n",
       "        text-align: right;\n",
       "    }\n",
       "</style>\n",
       "<table border=\"1\" class=\"dataframe\">\n",
       "  <thead>\n",
       "    <tr style=\"text-align: right;\">\n",
       "      <th></th>\n",
       "      <th>id</th>\n",
       "      <th>ra</th>\n",
       "      <th>Nome</th>\n",
       "      <th>tempoestudo</th>\n",
       "      <th>rendafamiliar</th>\n",
       "    </tr>\n",
       "  </thead>\n",
       "  <tbody>\n",
       "    <tr>\n",
       "      <th>0</th>\n",
       "      <td>1</td>\n",
       "      <td>00034549</td>\n",
       "      <td>None</td>\n",
       "      <td>0</td>\n",
       "      <td>NaN</td>\n",
       "    </tr>\n",
       "    <tr>\n",
       "      <th>1</th>\n",
       "      <td>2</td>\n",
       "      <td>00034547</td>\n",
       "      <td>None</td>\n",
       "      <td>0</td>\n",
       "      <td>NaN</td>\n",
       "    </tr>\n",
       "    <tr>\n",
       "      <th>2</th>\n",
       "      <td>3</td>\n",
       "      <td>00034549</td>\n",
       "      <td>None</td>\n",
       "      <td>0</td>\n",
       "      <td>NaN</td>\n",
       "    </tr>\n",
       "    <tr>\n",
       "      <th>3</th>\n",
       "      <td>4</td>\n",
       "      <td>00034550</td>\n",
       "      <td>None</td>\n",
       "      <td>0</td>\n",
       "      <td>NaN</td>\n",
       "    </tr>\n",
       "    <tr>\n",
       "      <th>4</th>\n",
       "      <td>5</td>\n",
       "      <td>00034551</td>\n",
       "      <td>None</td>\n",
       "      <td>0</td>\n",
       "      <td>NaN</td>\n",
       "    </tr>\n",
       "    <tr>\n",
       "      <th>...</th>\n",
       "      <td>...</td>\n",
       "      <td>...</td>\n",
       "      <td>...</td>\n",
       "      <td>...</td>\n",
       "      <td>...</td>\n",
       "    </tr>\n",
       "    <tr>\n",
       "      <th>83</th>\n",
       "      <td>84</td>\n",
       "      <td>12345744</td>\n",
       "      <td>Xuxa Almeida</td>\n",
       "      <td>12</td>\n",
       "      <td>2700.0</td>\n",
       "    </tr>\n",
       "    <tr>\n",
       "      <th>84</th>\n",
       "      <td>85</td>\n",
       "      <td>12345745</td>\n",
       "      <td>Yuri Rodrigues</td>\n",
       "      <td>14</td>\n",
       "      <td>2900.0</td>\n",
       "    </tr>\n",
       "    <tr>\n",
       "      <th>85</th>\n",
       "      <td>86</td>\n",
       "      <td>12345746</td>\n",
       "      <td>Zilda Santos</td>\n",
       "      <td>16</td>\n",
       "      <td>3100.0</td>\n",
       "    </tr>\n",
       "    <tr>\n",
       "      <th>86</th>\n",
       "      <td>87</td>\n",
       "      <td>12345747</td>\n",
       "      <td>Alan Costa</td>\n",
       "      <td>11</td>\n",
       "      <td>2600.0</td>\n",
       "    </tr>\n",
       "    <tr>\n",
       "      <th>87</th>\n",
       "      <td>88</td>\n",
       "      <td>12345748</td>\n",
       "      <td>Bárbara Lima</td>\n",
       "      <td>13</td>\n",
       "      <td>2800.0</td>\n",
       "    </tr>\n",
       "  </tbody>\n",
       "</table>\n",
       "<p>88 rows × 5 columns</p>\n",
       "</div>"
      ],
      "text/plain": [
       "    id        ra            Nome  tempoestudo  rendafamiliar\n",
       "0    1  00034549            None            0            NaN\n",
       "1    2  00034547            None            0            NaN\n",
       "2    3  00034549            None            0            NaN\n",
       "3    4  00034550            None            0            NaN\n",
       "4    5  00034551            None            0            NaN\n",
       "..  ..       ...             ...          ...            ...\n",
       "83  84  12345744    Xuxa Almeida           12         2700.0\n",
       "84  85  12345745  Yuri Rodrigues           14         2900.0\n",
       "85  86  12345746    Zilda Santos           16         3100.0\n",
       "86  87  12345747      Alan Costa           11         2600.0\n",
       "87  88  12345748    Bárbara Lima           13         2800.0\n",
       "\n",
       "[88 rows x 5 columns]"
      ]
     },
     "execution_count": 8,
     "metadata": {},
     "output_type": "execute_result"
    }
   ],
   "source": [
    "import urllib.parse\n",
    "\n",
    "# dados para a conectar\n",
    "user = 'root'\n",
    "password = urllib.parse.quote_plus('senai@123')\n",
    "host = 'localhost'\n",
    "#host = 127.0.0.1\n",
    "port = 3306\n",
    "database = 'projetodiario1'\n",
    "\n",
    "# Sting para conectar\n",
    "conection_string = f'mysql+pymysql://{user}:{password}@{host}:{port}/{database}'\n",
    "\n",
    "# Criando a conexão\n",
    "engine = create_engine(conection_string)\n",
    "\n",
    "# Query \n",
    " \n",
    "query_alunos = \"SELECT * FROM aluno\" \n",
    "\n",
    "# Cria um dataframe com a consulta sql\n",
    "df_alunos = pd.read_sql(query_alunos,engine)\n",
    "\n",
    "df_alunos"
   ]
  },
  {
   "cell_type": "markdown",
   "metadata": {},
   "source": [
    "# Bibliotecas do panda\n",
    "    -Pandas (EDA - Análise Explotória de dados)\n",
    "    -Sckit-Learn(Fundamentos de inteligência artificial)\n",
    "    -Numpy (Matemática Complexa com abstração)"
   ]
  },
  {
   "cell_type": "markdown",
   "metadata": {},
   "source": [
    "# Salvando o DataFrame\n",
    "    - .csv\n",
    "    - .xms\n",
    "    - .jason\n",
    "    - .sql\n",
    "    - .html\n",
    "    - .xml"
   ]
  },
  {
   "cell_type": "code",
   "execution_count": 9,
   "metadata": {},
   "outputs": [],
   "source": [
    "csv_filename = 'alunos.csv'\n",
    "df_alunos.to_csv(csv_filename,index=False)"
   ]
  },
  {
   "cell_type": "code",
   "execution_count": 11,
   "metadata": {},
   "outputs": [],
   "source": [
    "# Crie uma nova celula que salve o dataframe no formato JSON\n",
    "json_filename = 'alunos.json'\n",
    "df_alunos.to_json(json_filename,index=False)"
   ]
  }
 ],
 "metadata": {
  "kernelspec": {
   "display_name": ".venv",
   "language": "python",
   "name": "python3"
  },
  "language_info": {
   "codemirror_mode": {
    "name": "ipython",
    "version": 3
   },
   "file_extension": ".py",
   "mimetype": "text/x-python",
   "name": "python",
   "nbconvert_exporter": "python",
   "pygments_lexer": "ipython3",
   "version": "3.12.4"
  }
 },
 "nbformat": 4,
 "nbformat_minor": 2
}
