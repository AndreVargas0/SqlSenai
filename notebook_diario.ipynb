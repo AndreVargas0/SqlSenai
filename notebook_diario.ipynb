{
 "cells": [
  {
   "cell_type": "markdown",
   "metadata": {},
   "source": [
    "### passo 1 - Variáveis para credenciais \n",
    "\n",
    "user = 'root'  \n",
    "passoword ='senai@123'  \n",
    "host = 'localhost'  \n",
    "database = 'projetodiario1'  \n",
    "\n",
    "### passo 2 - url de conexão\n",
    "\n",
    "### passo 3 - engine do SQLAlchemy (conectar)\n",
    "\n",
    "### passo 4 - consulta de alinos \n",
    "\n",
    "### passo 5 - criar dataframe no pandas\n",
    "    #pd.read_sql(query)\n",
    "\n",
    "### passo 6 - mostrar os cinco primeiros\n"
   ]
  },
  {
   "cell_type": "code",
   "execution_count": null,
   "metadata": {},
   "outputs": [],
   "source": []
  }
 ],
 "metadata": {
  "language_info": {
   "name": "python"
  }
 },
 "nbformat": 4,
 "nbformat_minor": 2
}
